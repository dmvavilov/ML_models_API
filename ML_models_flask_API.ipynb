{
 "cells": [
  {
   "cell_type": "code",
   "execution_count": null,
   "metadata": {},
   "outputs": [],
   "source": [
    "from flask import Flask, request, jsonify, send_file, abort, Response\n",
    "from flask_restx import Api\n",
    "\n",
    "from ML_models import ML_models\n",
    "\n",
    "import re\n",
    "import os"
   ]
  },
  {
   "cell_type": "code",
   "execution_count": null,
   "metadata": {},
   "outputs": [],
   "source": [
    "app = Flask(__name__)\n",
    "api = Api(app)\n",
    "\n",
    "mlmodels = ML_models()\n",
    "\n",
    "@app.route(\"/api/model_tasks\", methods=['GET'])\n",
    "def tasks():\n",
    "    return \" \".join(mlmodels.get_available_tasks()).replace(' ', ', ')\n",
    "\n",
    "\n",
    "@app.route(\"/api/model_types/<task>\", methods=['GET'])\n",
    "def types(task):\n",
    "    if isinstance(mlmodels.get_available_models(task), list):\n",
    "        return \" \".join(mlmodels.get_available_models(task)).replace(' ', ', ')\n",
    "    return mlmodels.get_available_models(task)\n",
    "\n",
    "\n",
    "@app.route(\"/api/delete_model/<model_name>\", methods=['DELETE'])\n",
    "def delete_model(model_name):\n",
    "    return mlmodels.delete_model(model_name)\n",
    "\n",
    "\n",
    "@app.route(\"/api/fit\", methods=['PUT'])\n",
    "def fit_model():\n",
    "    return mlmodels.fit_model(**request.json)\n",
    "\n",
    "\n",
    "@app.route(\"/api/predict\", methods=['PUT'])\n",
    "def get_preds():\n",
    "    return mlmodels.get_preds(**request.json)\n",
    "\n",
    "\n",
    "if __name__ == '__main__':\n",
    "    app.run()"
   ]
  }
 ],
 "metadata": {
  "kernelspec": {
   "display_name": "Python 3",
   "language": "python",
   "name": "python3"
  },
  "language_info": {
   "codemirror_mode": {
    "name": "ipython",
    "version": 3
   },
   "file_extension": ".py",
   "mimetype": "text/x-python",
   "name": "python",
   "nbconvert_exporter": "python",
   "pygments_lexer": "ipython3",
   "version": "3.8.2"
  }
 },
 "nbformat": 4,
 "nbformat_minor": 4
}
