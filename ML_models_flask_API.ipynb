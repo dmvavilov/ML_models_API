{
 "cells": [
  {
   "cell_type": "code",
   "execution_count": 3,
   "metadata": {},
   "outputs": [],
   "source": [
    "from flask import Flask, request, jsonify, send_file, abort, Response\n",
    "from flask_restx import Api\n",
    "\n",
    "from ML_models import ML_models\n",
    "\n",
    "import re\n",
    "import os"
   ]
  },
  {
   "cell_type": "code",
   "execution_count": null,
   "metadata": {},
   "outputs": [
    {
     "name": "stdout",
     "output_type": "stream",
     "text": [
      " * Serving Flask app '__main__' (lazy loading)\n",
      " * Environment: production\n",
      "   WARNING: This is a development server. Do not use it in a production deployment.\n",
      "   Use a production WSGI server instead.\n",
      " * Debug mode: off\n"
     ]
    },
    {
     "name": "stderr",
     "output_type": "stream",
     "text": [
      " * Running on http://127.0.0.1:5000/ (Press CTRL+C to quit)\n",
      "127.0.0.1 - - [02/Nov/2021 01:52:50] \"GET /api/model_tasks HTTP/1.1\" 200 -\n",
      "127.0.0.1 - - [02/Nov/2021 01:52:53] \"GET /api/model_types/Regression HTTP/1.1\" 200 -\n",
      "127.0.0.1 - - [02/Nov/2021 01:53:25] \"PUT /api/fit HTTP/1.1\" 200 -\n",
      "127.0.0.1 - - [02/Nov/2021 01:53:41] \"PUT /api/predict HTTP/1.1\" 200 -\n",
      "127.0.0.1 - - [02/Nov/2021 01:56:44] \"GET /api/model_tasks HTTP/1.1\" 200 -\n",
      "127.0.0.1 - - [02/Nov/2021 01:56:45] \"GET /api/model_types/Regression HTTP/1.1\" 200 -\n",
      "127.0.0.1 - - [02/Nov/2021 01:58:07] \"PUT /api/fit HTTP/1.1\" 200 -\n",
      "127.0.0.1 - - [02/Nov/2021 01:59:23] \"GET /api/model_tasks HTTP/1.1\" 200 -\n",
      "127.0.0.1 - - [02/Nov/2021 01:59:25] \"GET /api/model_types/Regression HTTP/1.1\" 200 -\n",
      "127.0.0.1 - - [02/Nov/2021 01:59:49] \"PUT /api/fit HTTP/1.1\" 200 -\n",
      "127.0.0.1 - - [02/Nov/2021 02:01:20] \"GET /api/model_tasks HTTP/1.1\" 200 -\n",
      "127.0.0.1 - - [02/Nov/2021 02:01:22] \"GET /api/model_types/Regression HTTP/1.1\" 200 -\n",
      "127.0.0.1 - - [02/Nov/2021 02:01:42] \"PUT /api/fit HTTP/1.1\" 200 -\n"
     ]
    }
   ],
   "source": [
    "app = Flask(__name__)\n",
    "api = Api(app)\n",
    "\n",
    "mlmodels = ML_models()\n",
    "\n",
    "@app.route(\"/api/model_tasks\", methods=['GET'])\n",
    "def tasks():\n",
    "    return \" \".join(mlmodels.get_available_tasks()).replace(' ', ', ')\n",
    "\n",
    "\n",
    "@app.route(\"/api/model_types/<task>\", methods=['GET'])\n",
    "def types(task):\n",
    "    if isinstance(mlmodels.get_available_models(task), list):\n",
    "        return \" \".join(mlmodels.get_available_models(task)).replace(' ', ', ')\n",
    "    return mlmodels.get_available_models(task)\n",
    "\n",
    "\n",
    "@app.route(\"/api/delete_model/<model_name>\", methods=['DELETE'])\n",
    "def delete_model(model_name):\n",
    "    return mlmodels.delete_model(model_name)\n",
    "\n",
    "\n",
    "@app.route(\"/api/fit\", methods=['PUT'])\n",
    "def fit_model():\n",
    "    return mlmodels.fit_model(**request.json)\n",
    "\n",
    "\n",
    "@app.route(\"/api/predict\", methods=['PUT'])\n",
    "def get_preds():\n",
    "    return mlmodels.get_preds(**request.json)\n",
    "\n",
    "\n",
    "if __name__ == '__main__':\n",
    "    app.run()"
   ]
  },
  {
   "cell_type": "code",
   "execution_count": null,
   "metadata": {},
   "outputs": [],
   "source": []
  }
 ],
 "metadata": {
  "kernelspec": {
   "display_name": "Python 3",
   "language": "python",
   "name": "python3"
  },
  "language_info": {
   "codemirror_mode": {
    "name": "ipython",
    "version": 3
   },
   "file_extension": ".py",
   "mimetype": "text/x-python",
   "name": "python",
   "nbconvert_exporter": "python",
   "pygments_lexer": "ipython3",
   "version": "3.8.2"
  }
 },
 "nbformat": 4,
 "nbformat_minor": 4
}
